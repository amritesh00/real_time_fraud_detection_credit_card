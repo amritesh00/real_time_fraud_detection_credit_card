{
 "cells": [
  {
   "cell_type": "code",
   "execution_count": null,
   "id": "26df49a1",
   "metadata": {},
   "outputs": [],
   "source": [
    "# Load and validate data\n",
    "import pandas as pd\n",
    "from sklearn.ensemble import IsolationForest\n",
    "from sklearn.metrics import classification_report\n",
    "import joblib\n",
    "\n",
    "# Load data\n",
    "try:\n",
    "    df = pd.read_csv('creditcard.csv')\n",
    "    assert not df.empty, \"Dataset is empty\"\n",
    "    assert 'Class' in df.columns, \"Target column missing\"\n",
    "except Exception as e:\n",
    "    raise ValueError(f\"Data validation failed: {str(e)}\")\n",
    "\n",
    "# Feature engineering\n",
    "features = df[['Amount', 'Time'] + [f'V{i}' for i in range(1, 29)]]\n",
    "\n",
    "# Model training\n",
    "model = IsolationForest(\n",
    "    contamination=0.01,\n",
    "    random_state=42,\n",
    "    n_estimators=150\n",
    ")\n",
    "model.fit(features)\n",
    "\n",
    "# Validation\n",
    "preds = model.predict(features)\n",
    "print(classification_report(df['Class'], preds == -1))\n",
    "\n",
    "# Save model\n",
    "joblib.dump(model, '../app/model.joblib')\n",
    "print(\"Model saved to ../app/model.joblib\")"
   ]
  }
 ],
 "metadata": {
  "kernelspec": {
   "display_name": "Python 3",
   "language": "python",
   "name": "python3"
  }
 },
 "nbformat": 4,
 "nbformat_minor": 5
}
